{
 "cells": [
  {
   "cell_type": "markdown",
   "id": "f102214b-702f-46f3-a3cb-ef8f42ef8e0a",
   "metadata": {},
   "source": [
    "# Pipeline for next activity prediction"
   ]
  },
  {
   "cell_type": "code",
   "execution_count": 1,
   "id": "367cb6ec-5d97-406b-968f-7301ec982014",
   "metadata": {
    "tags": []
   },
   "source": [
    "import xgboost as xgb\n",
    "import os\n",
    "import sys\n",
    "import pickle\n",
    "import pandas as pd\n",
    "import numpy as np\n",
    "from joblib import dump, load\n",
    "import copy\n",
    "\n",
    "import torch\n",
    "import torch.nn as nn\n",
    "from torch.utils.data import Dataset\n",
    "from torch.nn.utils.rnn import pad_sequence\n",
    "from torch.utils.data import DataLoader\n",
    "from torch.nn import functional as F\n",
    "\n",
    "from sklearn.metrics import mean_absolute_error\n",
    "import importlib.util\n",
    "\n",
    "module_path = os.path.abspath(os.path.join('../..'))\n",
    "if module_path not in sys.path:\n",
    "    sys.path.append(module_path)\n",
    "    \n",
    "from src.Trainer import CaseDataSet\n",
    "from src.Trainer import NextActPredictor\n",
    "from src.Model import DLModels\n",
    "\n",
    "from sklearn import preprocessing\n",
    "from sklearn.metrics import f1_score\n",
    "    \n",
    "\n",
    "\n",
    "torch_device = \"cpu\"\n",
    "device_package = torch.cpu\n",
    "if importlib.util.find_spec(\"torch.backends.mps\") is not None:\n",
    "    if torch.backends.mps.is_available():\n",
    "        torch_device = torch.device(\"mps\")\n",
    "        device_package = torch.mps\n",
    "if torch.cuda.is_available():\n",
    "    torch_device = torch.device(\"cuda\")\n",
    "    device_package = torch.cuda\n",
    "    \n",
    "torch_device"
   ],
   "outputs": []
  },
  {
   "cell_type": "code",
   "execution_count": null,
   "id": "bab5e2a6-36cc-4e29-a048-85b01c48b012",
   "metadata": {},
   "source": [],
   "outputs": []
  },
  {
   "cell_type": "code",
   "execution_count": 6,
   "id": "b1756b0a-fabe-4572-9c71-201e0c397bcf",
   "metadata": {
    "tags": []
   },
   "source": [
    "encoding = \"Agg_Mean\"\n",
    "train = CaseDataSet.CaseDataset(project_data_path=\"../../data/Test/\", input_data=\"bpmn19-log\", data_version=\"_train\",\n",
    "                                    feature_list=[\"Activity\", \"LapseTime\"],\n",
    "                                    encoding=encoding, label=\"Next_Activity\")\n",
    "\n",
    "val = CaseDataSet.CaseDataset(project_data_path=\"../../data/Test/\", input_data=\"bpmn19-log\", data_version=\"_val\",\n",
    "                                    feature_list=[\"Activity\", \"LapseTime\"],\n",
    "                                    encoding=encoding, label=\"Next_Activity\")\n",
    "\n",
    "test = CaseDataSet.CaseDataset(project_data_path=\"../../data/Test/\", input_data=\"bpmn19-log\", data_version=\"_test\",\n",
    "                                    feature_list=[\"Activity\", \"LapseTime\"],\n",
    "                                    encoding=encoding, label=\"Next_Activity\")\n",
    "\n",
    "t1 = NextActPredictor.XGBTrainer(train, val, model_path=\"../../models/bpmn19-log\", num_class=9)\n",
    "t1.train()\n",
    "print(t1.score())"
   ],
   "outputs": []
  },
  {
   "cell_type": "code",
   "execution_count": 7,
   "id": "4be7029b-0678-4b20-a70b-9881a470df4a",
   "metadata": {
    "tags": []
   },
   "source": [
    "encoding = \"Last\"\n",
    "train = CaseDataSet.CaseDataset(project_data_path=\"../../data/Test/\", input_data=\"bpmn1-log\", data_version=\"_train\",\n",
    "                                    feature_list=[\"Activity\"],\n",
    "                                    encoding=encoding, label=\"Next_Activity\")\n",
    "\n",
    "val = CaseDataSet.CaseDataset(project_data_path=\"../../data/Test/\", input_data=\"bpmn1-log\", data_version=\"_val\",\n",
    "                                    feature_list=[\"Activity\"],\n",
    "                                    encoding=encoding, label=\"Next_Activity\")\n",
    "\n",
    "test = CaseDataSet.CaseDataset(project_data_path=\"../../data/Test/\", input_data=\"bpmn1-log\", data_version=\"_test\",\n",
    "                                    feature_list=[\"Activity\"],\n",
    "                                    encoding=encoding, label=\"Next_Activity\")\n",
    "\n",
    "t1 = NextActPredictor.XGBTrainer(train, val, model_path=\"../../models/bpmn1-log\", num_class=9)\n",
    "t1.train()\n",
    "print(t1.score())"
   ],
   "outputs": []
  },
  {
   "cell_type": "code",
   "execution_count": 5,
   "id": "4a52b582-a428-4d02-82a1-2f388048b88a",
   "metadata": {
    "tags": []
   },
   "source": [
    "t1.data_list[1][1][20]"
   ],
   "outputs": []
  },
  {
   "cell_type": "code",
   "execution_count": 39,
   "id": "83fedf36-0afa-41ca-ae95-c3ddcf81e227",
   "metadata": {
    "tags": []
   },
   "source": [
    "test[:][0].shape"
   ],
   "outputs": []
  },
  {
   "cell_type": "code",
   "execution_count": 3,
   "id": "8a5959c4-2c7d-4c68-9b02-5a7de3cbca8c",
   "metadata": {
    "tags": []
   },
   "source": [
    "t1 = NextActPredictor.XGBTrainer(train, val, model_path=\"../../models/bpmn19-log\", num_class=9)\n",
    "t1.train()\n",
    "print(t1.score())\n",
    "t1.save_model()"
   ],
   "outputs": []
  },
  {
   "cell_type": "code",
   "execution_count": 41,
   "id": "6bcdf55f-ecb7-48a8-998a-7fc3d8544834",
   "metadata": {},
   "source": [
    "t2 = NextActPredictor.XGBPredictor(test, model_path=\"../../models/bpmn19-log\", num_class=9)\n",
    "print(t2.predict())\n"
   ],
   "outputs": []
  },
  {
   "cell_type": "code",
   "execution_count": 8,
   "id": "891e4694-0b70-4be3-b31c-0c08a6eaadc5",
   "metadata": {},
   "source": [
    "encoding = \"All\"\n",
    "train = CaseDataSet.CaseDataset(project_data_path=\"../../data/Test/\", input_data=\"bpmn1-log\", data_version=\"_train\",\n",
    "                                    feature_list=[\"Activity\", \"LapseTime\"],\n",
    "                                    encoding=encoding, label=\"Next_Activity\")\n",
    "\n",
    "val = CaseDataSet.CaseDataset(project_data_path=\"../../data/Test/\", input_data=\"bpmn1-log\", data_version=\"_val\",\n",
    "                                    feature_list=[\"Activity\", \"LapseTime\"],\n",
    "                                    encoding=encoding, label=\"Next_Activity\")\n",
    "\n",
    "test = CaseDataSet.CaseDataset(project_data_path=\"../../data/Test/\", input_data=\"bpmn1-log\", data_version=\"_test\",\n",
    "                                    feature_list=[\"Activity\", \"LapseTime\"],\n",
    "                                    encoding=encoding, label=\"Next_Activity\")"
   ],
   "outputs": []
  },
  {
   "cell_type": "code",
   "execution_count": 9,
   "id": "b718c67d-d638-41c6-ad4b-33ab13bd0404",
   "metadata": {},
   "source": [
    "# Hyperparameters\n",
    "input_size = 11  # The number of expected features in the input x\n",
    "hidden_size = 512  # The number of features in the hidden state h\n",
    "num_layers = 1  # Number of recurrent layers\n",
    "num_classes = 10 \n",
    "learning_rate = 0.002\n",
    "\n",
    "\n",
    "model = DLModels.SimpleLSTM(input_size, hidden_size, num_layers, num_classes).to(torch_device)\n",
    "optimizer = torch.optim.NAdam(model.parameters(), lr=learning_rate)\n",
    "loss = nn.CrossEntropyLoss()"
   ],
   "outputs": []
  },
  {
   "cell_type": "code",
   "execution_count": 10,
   "id": "1f6fb691-52fb-4566-81a6-5b8a05d74dbf",
   "metadata": {},
   "source": [
    "trained_model, train_score, test_score = NextActPredictor.train_model(model, optimizer, loss, loss, train, val, 2, torch_device, device_package, print_iter=True)"
   ],
   "outputs": []
  },
  {
   "cell_type": "code",
   "execution_count": 8,
   "id": "0f4cdf90-0660-4b10-9c3e-e505e7bcdb36",
   "metadata": {},
   "source": [
    "NextActPredictor.evaluate_model(trained_model, test, torch_device, device_package, batch_size=100)"
   ],
   "outputs": []
  },
  {
   "cell_type": "code",
   "execution_count": 31,
   "id": "f90d4e39-7d25-449f-ad56-820c8f822dc7",
   "metadata": {},
   "source": [
    "test.set_prefix_length(1)\n",
    "test[:]"
   ],
   "outputs": []
  }
 ],
 "metadata": {
  "kernelspec": {
   "display_name": "Python 3 (ipykernel)",
   "language": "python",
   "name": "python3"
  },
  "language_info": {
   "codemirror_mode": {
    "name": "ipython",
    "version": 3
   },
   "file_extension": ".py",
   "mimetype": "text/x-python",
   "name": "python",
   "nbconvert_exporter": "python",
   "pygments_lexer": "ipython3",
   "version": "3.8.19"
  }
 },
 "nbformat": 4,
 "nbformat_minor": 5
}
