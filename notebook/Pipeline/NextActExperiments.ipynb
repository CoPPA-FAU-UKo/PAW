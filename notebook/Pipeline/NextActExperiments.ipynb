{
 "cells": [
  {
   "cell_type": "markdown",
   "id": "9da43b5c-c685-4c54-abdf-fd570e3e9216",
   "metadata": {},
   "source": [
    "# Experiments on NEP"
   ]
  },
  {
   "cell_type": "code",
   "execution_count": 1,
   "id": "f476dc19-d2ff-46c0-85aa-9bce5e438b8e",
   "metadata": {
    "tags": []
   },
   "source": [
    "import xgboost as xgb\n",
    "import os\n",
    "import sys\n",
    "import pickle\n",
    "import pandas as pd\n",
    "import numpy as np\n",
    "from joblib import dump, load\n",
    "import copy\n",
    "\n",
    "import torch\n",
    "import torch.nn as nn\n",
    "from torch.utils.data import Dataset\n",
    "from torch.nn.utils.rnn import pad_sequence\n",
    "from torch.utils.data import DataLoader\n",
    "from torch.nn import functional as F\n",
    "\n",
    "from sklearn.metrics import mean_absolute_error\n",
    "import importlib.util\n",
    "\n",
    "module_path = os.path.abspath(os.path.join('../..'))\n",
    "if module_path not in sys.path:\n",
    "    sys.path.append(module_path)\n",
    "    \n",
    "from src.Trainer import CaseDataSet\n",
    "from src.Trainer import NextActPredictor\n",
    "from src.Model import DLModels\n",
    "\n",
    "from sklearn import preprocessing\n",
    "from sklearn.metrics import f1_score\n",
    "    \n",
    "torch_device = \"cpu\"\n",
    "device_package = torch.cpu\n",
    "if importlib.util.find_spec(\"torch.backends.mps\") is not None:\n",
    "    if torch.backends.mps.is_available():\n",
    "        torch_device = torch.device(\"mps\")\n",
    "        device_package = torch.mps\n",
    "if torch.cuda.is_available():\n",
    "    torch_device = torch.device(\"cuda\")\n",
    "    device_package = torch.cuda\n",
    "    \n",
    "torch_device"
   ],
   "outputs": []
  },
  {
   "cell_type": "markdown",
   "id": "5d252dea-339b-40b7-af0d-69e9c084f0ce",
   "metadata": {},
   "source": [
    "## Load data"
   ]
  },
  {
   "cell_type": "code",
   "execution_count": 4,
   "id": "f2d068e4-73af-46fa-a01c-bf0ea0efa7b8",
   "metadata": {
    "tags": []
   },
   "source": [
    "log_index_list = [1,2,3,5,6,10,11,14,15,17,18,19]\n",
    "log_list = []\n",
    "for index in log_index_list:\n",
    "    log_list.append(\"bpmn\"+str(index)+\"-log\")"
   ],
   "outputs": []
  },
  {
   "cell_type": "markdown",
   "id": "79ba9c68-18ca-43bb-9981-7794b03231e7",
   "metadata": {},
   "source": [
    "## Experiment function"
   ]
  },
  {
   "cell_type": "code",
   "execution_count": null,
   "id": "ecfd3e63-2c73-4a4f-9e40-e28bd156109f",
   "metadata": {},
   "source": [
    "def run_experiment_NEP(eventlogs, model=\"XGB\", encoding=\"Last\"):\n",
    "    train = CaseDataSet.CaseDataset(project_data_path=\"../../data/Test/\",\n",
    "                                    input_data=\"bpmn19-log\", data_version=\"_train\",\n",
    "                                    feature_list=[\"Activity\", \"LapseTime\"],\n",
    "                                    encoding=encoding, label=\"Next_Activity\")\n",
    "\n",
    "    val = CaseDataSet.CaseDataset(project_data_path=\"../../data/Test/\",\n",
    "                                  input_data=\"bpmn19-log\", data_version=\"_val\",\n",
    "                                  feature_list=[\"Activity\", \"LapseTime\"],\n",
    "                                  encoding=encoding, label=\"Next_Activity\")\n",
    "\n",
    "    test = CaseDataSet.CaseDataset(project_data_path=\"../../data/Test/\",\n",
    "                                   input_data=\"bpmn19-log\", data_version=\"_test\",\n",
    "                                   feature_list=[\"Activity\", \"LapseTime\"],\n",
    "                                   encoding=encoding, label=\"Next_Activity\")"
   ],
   "outputs": []
  }
 ],
 "metadata": {
  "kernelspec": {
   "display_name": "Python 3 (ipykernel)",
   "language": "python",
   "name": "python3"
  },
  "language_info": {
   "codemirror_mode": {
    "name": "ipython",
    "version": 3
   },
   "file_extension": ".py",
   "mimetype": "text/x-python",
   "name": "python",
   "nbconvert_exporter": "python",
   "pygments_lexer": "ipython3",
   "version": "3.8.19"
  }
 },
 "nbformat": 4,
 "nbformat_minor": 5
}
