{
 "cells": [
  {
   "cell_type": "markdown",
   "id": "cfbd89b0-199a-4ded-b8cb-88124f721b3c",
   "metadata": {},
   "source": [
    "# BPMN Generator of case study 1"
   ]
  },
  {
   "cell_type": "code",
   "execution_count": 9,
   "id": "4cfedf4c-346b-454a-8f99-5c1cd37891b2",
   "metadata": {
    "tags": []
   },
   "outputs": [],
   "source": [
    "from typing import Tuple\n",
    "import pm4py\n",
    "import random\n",
    "import pandas as pd\n",
    "\n",
    "import sys\n",
    "import os\n",
    "module_path = os.path.abspath(os.path.join('../..'))\n",
    "if module_path not in sys.path:\n",
    "    sys.path.append(module_path)\n",
    "    \n",
    "    \n",
    "from src.Process import BPMNGen\n",
    "from src.Process import XMLWriter\n",
    "from src.Comlexity import ProcessComplexity\n",
    "from pm4py.visualization.bpmn import visualizer as bpmn_visualizer\n",
    "\n",
    "from src.Backend import GenerateBPMN"
   ]
  },
  {
   "cell_type": "code",
   "execution_count": 10,
   "id": "6ac5a69a-926c-48e4-9b8b-a2f7c6897a2f",
   "metadata": {
    "tags": []
   },
   "outputs": [],
   "source": [
    "t1 = {'BPMN_cfc5_0_trace': {'Precision': 0.919607843137255, 'Recall': 0.9215686274509803, 'F1': 0.9204524721766102}, 'BPMN_cfc5_1_trace': {'Precision': 0.9332839140103781, 'Recall': 0.9330985915492958, 'F1': 0.9331449542717147}, 'BPMN_cfc5_2_trace': {'Precision': 0.7840112201963534, 'Recall': 0.8580645161290322, 'F1': 0.8094009216589861}, 'BPMN_cfc5_3_trace': {'Precision': 1.0, 'Recall': 1.0, 'F1': 1.0}, 'BPMN_cfc5_4_trace': {'Precision': 0.8324701800798292, 'Recall': 0.825, 'F1': 0.8234649122807018}, 'BPMN_cfc7_0_trace': {'Precision': 0.978178398416509, 'Recall': 0.9764150943396226, 'F1': 0.9762333260331124}, 'BPMN_cfc7_1_trace': {'Precision': 0.8505912803951367, 'Recall': 0.8457446808510638, 'F1': 0.8459772119520987}, 'BPMN_cfc7_2_trace': {'Precision': 0.8848879018612521, 'Recall': 0.8781725888324873, 'F1': 0.8771526090898725}, 'BPMN_cfc7_3_trace': {'Precision': 0.9724358974358973, 'Recall': 0.967948717948718, 'F1': 0.9675716440422323}, 'BPMN_cfc7_4_trace': {'Precision': 0.8907732106927279, 'Recall': 0.8953722334004024, 'F1': 0.8808061483656036}}\n",
    "t2 = {'Precision': 0.919607843137255, 'Recall': 0.9215686274509803, 'F1': 0.9204524721766102}"
   ]
  },
  {
   "cell_type": "code",
   "execution_count": 11,
   "id": "519ea4b8-61f9-4393-bace-0119a222972e",
   "metadata": {
    "tags": []
   },
   "outputs": [
    {
     "data": {
      "text/html": [
       "<div>\n",
       "<style scoped>\n",
       "    .dataframe tbody tr th:only-of-type {\n",
       "        vertical-align: middle;\n",
       "    }\n",
       "\n",
       "    .dataframe tbody tr th {\n",
       "        vertical-align: top;\n",
       "    }\n",
       "\n",
       "    .dataframe thead th {\n",
       "        text-align: right;\n",
       "    }\n",
       "</style>\n",
       "<table border=\"1\" class=\"dataframe\">\n",
       "  <thead>\n",
       "    <tr style=\"text-align: right;\">\n",
       "      <th></th>\n",
       "      <th>Precision</th>\n",
       "      <th>Recall</th>\n",
       "      <th>F1</th>\n",
       "    </tr>\n",
       "  </thead>\n",
       "  <tbody>\n",
       "    <tr>\n",
       "      <th>BPMN_cfc5_0_trace</th>\n",
       "      <td>0.919608</td>\n",
       "      <td>0.921569</td>\n",
       "      <td>0.920452</td>\n",
       "    </tr>\n",
       "    <tr>\n",
       "      <th>BPMN_cfc5_1_trace</th>\n",
       "      <td>0.933284</td>\n",
       "      <td>0.933099</td>\n",
       "      <td>0.933145</td>\n",
       "    </tr>\n",
       "    <tr>\n",
       "      <th>BPMN_cfc5_2_trace</th>\n",
       "      <td>0.784011</td>\n",
       "      <td>0.858065</td>\n",
       "      <td>0.809401</td>\n",
       "    </tr>\n",
       "    <tr>\n",
       "      <th>BPMN_cfc5_3_trace</th>\n",
       "      <td>1.000000</td>\n",
       "      <td>1.000000</td>\n",
       "      <td>1.000000</td>\n",
       "    </tr>\n",
       "    <tr>\n",
       "      <th>BPMN_cfc5_4_trace</th>\n",
       "      <td>0.832470</td>\n",
       "      <td>0.825000</td>\n",
       "      <td>0.823465</td>\n",
       "    </tr>\n",
       "    <tr>\n",
       "      <th>BPMN_cfc7_0_trace</th>\n",
       "      <td>0.978178</td>\n",
       "      <td>0.976415</td>\n",
       "      <td>0.976233</td>\n",
       "    </tr>\n",
       "    <tr>\n",
       "      <th>BPMN_cfc7_1_trace</th>\n",
       "      <td>0.850591</td>\n",
       "      <td>0.845745</td>\n",
       "      <td>0.845977</td>\n",
       "    </tr>\n",
       "    <tr>\n",
       "      <th>BPMN_cfc7_2_trace</th>\n",
       "      <td>0.884888</td>\n",
       "      <td>0.878173</td>\n",
       "      <td>0.877153</td>\n",
       "    </tr>\n",
       "    <tr>\n",
       "      <th>BPMN_cfc7_3_trace</th>\n",
       "      <td>0.972436</td>\n",
       "      <td>0.967949</td>\n",
       "      <td>0.967572</td>\n",
       "    </tr>\n",
       "    <tr>\n",
       "      <th>BPMN_cfc7_4_trace</th>\n",
       "      <td>0.890773</td>\n",
       "      <td>0.895372</td>\n",
       "      <td>0.880806</td>\n",
       "    </tr>\n",
       "  </tbody>\n",
       "</table>\n",
       "</div>"
      ],
      "text/plain": [
       "                   Precision    Recall        F1\n",
       "BPMN_cfc5_0_trace   0.919608  0.921569  0.920452\n",
       "BPMN_cfc5_1_trace   0.933284  0.933099  0.933145\n",
       "BPMN_cfc5_2_trace   0.784011  0.858065  0.809401\n",
       "BPMN_cfc5_3_trace   1.000000  1.000000  1.000000\n",
       "BPMN_cfc5_4_trace   0.832470  0.825000  0.823465\n",
       "BPMN_cfc7_0_trace   0.978178  0.976415  0.976233\n",
       "BPMN_cfc7_1_trace   0.850591  0.845745  0.845977\n",
       "BPMN_cfc7_2_trace   0.884888  0.878173  0.877153\n",
       "BPMN_cfc7_3_trace   0.972436  0.967949  0.967572\n",
       "BPMN_cfc7_4_trace   0.890773  0.895372  0.880806"
      ]
     },
     "execution_count": 11,
     "metadata": {},
     "output_type": "execute_result"
    }
   ],
   "source": [
    "df = pd.DataFrame(t1).T\n",
    "df"
   ]
  },
  {
   "cell_type": "code",
   "execution_count": 12,
   "id": "e1478139-a251-4db3-a7eb-57e11caaa51a",
   "metadata": {
    "tags": []
   },
   "outputs": [
    {
     "ename": "ModuleNotFoundError",
     "evalue": "No module named 'openpyxl'",
     "output_type": "error",
     "traceback": [
      "\u001b[1;31m---------------------------------------------------------------------------\u001b[0m",
      "\u001b[1;31mModuleNotFoundError\u001b[0m                       Traceback (most recent call last)",
      "Cell \u001b[1;32mIn[12], line 1\u001b[0m\n\u001b[1;32m----> 1\u001b[0m \u001b[43mdf\u001b[49m\u001b[38;5;241;43m.\u001b[39;49m\u001b[43mto_excel\u001b[49m\u001b[43m(\u001b[49m\u001b[38;5;124;43m\"\u001b[39;49m\u001b[38;5;124;43m../../results/t1.xlsx\u001b[39;49m\u001b[38;5;124;43m\"\u001b[39;49m\u001b[43m)\u001b[49m\n",
      "File \u001b[1;32m~\\.conda\\envs\\coppa\\lib\\site-packages\\pandas\\core\\generic.py:2252\u001b[0m, in \u001b[0;36mNDFrame.to_excel\u001b[1;34m(self, excel_writer, sheet_name, na_rep, float_format, columns, header, index, index_label, startrow, startcol, engine, merge_cells, inf_rep, freeze_panes, storage_options)\u001b[0m\n\u001b[0;32m   2239\u001b[0m \u001b[38;5;28;01mfrom\u001b[39;00m \u001b[38;5;21;01mpandas\u001b[39;00m\u001b[38;5;21;01m.\u001b[39;00m\u001b[38;5;21;01mio\u001b[39;00m\u001b[38;5;21;01m.\u001b[39;00m\u001b[38;5;21;01mformats\u001b[39;00m\u001b[38;5;21;01m.\u001b[39;00m\u001b[38;5;21;01mexcel\u001b[39;00m \u001b[38;5;28;01mimport\u001b[39;00m ExcelFormatter\n\u001b[0;32m   2241\u001b[0m formatter \u001b[38;5;241m=\u001b[39m ExcelFormatter(\n\u001b[0;32m   2242\u001b[0m     df,\n\u001b[0;32m   2243\u001b[0m     na_rep\u001b[38;5;241m=\u001b[39mna_rep,\n\u001b[1;32m   (...)\u001b[0m\n\u001b[0;32m   2250\u001b[0m     inf_rep\u001b[38;5;241m=\u001b[39minf_rep,\n\u001b[0;32m   2251\u001b[0m )\n\u001b[1;32m-> 2252\u001b[0m \u001b[43mformatter\u001b[49m\u001b[38;5;241;43m.\u001b[39;49m\u001b[43mwrite\u001b[49m\u001b[43m(\u001b[49m\n\u001b[0;32m   2253\u001b[0m \u001b[43m    \u001b[49m\u001b[43mexcel_writer\u001b[49m\u001b[43m,\u001b[49m\n\u001b[0;32m   2254\u001b[0m \u001b[43m    \u001b[49m\u001b[43msheet_name\u001b[49m\u001b[38;5;241;43m=\u001b[39;49m\u001b[43msheet_name\u001b[49m\u001b[43m,\u001b[49m\n\u001b[0;32m   2255\u001b[0m \u001b[43m    \u001b[49m\u001b[43mstartrow\u001b[49m\u001b[38;5;241;43m=\u001b[39;49m\u001b[43mstartrow\u001b[49m\u001b[43m,\u001b[49m\n\u001b[0;32m   2256\u001b[0m \u001b[43m    \u001b[49m\u001b[43mstartcol\u001b[49m\u001b[38;5;241;43m=\u001b[39;49m\u001b[43mstartcol\u001b[49m\u001b[43m,\u001b[49m\n\u001b[0;32m   2257\u001b[0m \u001b[43m    \u001b[49m\u001b[43mfreeze_panes\u001b[49m\u001b[38;5;241;43m=\u001b[39;49m\u001b[43mfreeze_panes\u001b[49m\u001b[43m,\u001b[49m\n\u001b[0;32m   2258\u001b[0m \u001b[43m    \u001b[49m\u001b[43mengine\u001b[49m\u001b[38;5;241;43m=\u001b[39;49m\u001b[43mengine\u001b[49m\u001b[43m,\u001b[49m\n\u001b[0;32m   2259\u001b[0m \u001b[43m    \u001b[49m\u001b[43mstorage_options\u001b[49m\u001b[38;5;241;43m=\u001b[39;49m\u001b[43mstorage_options\u001b[49m\u001b[43m,\u001b[49m\n\u001b[0;32m   2260\u001b[0m \u001b[43m\u001b[49m\u001b[43m)\u001b[49m\n",
      "File \u001b[1;32m~\\.conda\\envs\\coppa\\lib\\site-packages\\pandas\\io\\formats\\excel.py:934\u001b[0m, in \u001b[0;36mExcelFormatter.write\u001b[1;34m(self, writer, sheet_name, startrow, startcol, freeze_panes, engine, storage_options)\u001b[0m\n\u001b[0;32m    930\u001b[0m     need_save \u001b[38;5;241m=\u001b[39m \u001b[38;5;28;01mFalse\u001b[39;00m\n\u001b[0;32m    931\u001b[0m \u001b[38;5;28;01melse\u001b[39;00m:\n\u001b[0;32m    932\u001b[0m     \u001b[38;5;66;03m# error: Cannot instantiate abstract class 'ExcelWriter' with abstract\u001b[39;00m\n\u001b[0;32m    933\u001b[0m     \u001b[38;5;66;03m# attributes 'engine', 'save', 'supported_extensions' and 'write_cells'\u001b[39;00m\n\u001b[1;32m--> 934\u001b[0m     writer \u001b[38;5;241m=\u001b[39m \u001b[43mExcelWriter\u001b[49m\u001b[43m(\u001b[49m\u001b[43m  \u001b[49m\u001b[38;5;66;43;03m# type: ignore[abstract]\u001b[39;49;00m\n\u001b[0;32m    935\u001b[0m \u001b[43m        \u001b[49m\u001b[43mwriter\u001b[49m\u001b[43m,\u001b[49m\u001b[43m \u001b[49m\u001b[43mengine\u001b[49m\u001b[38;5;241;43m=\u001b[39;49m\u001b[43mengine\u001b[49m\u001b[43m,\u001b[49m\u001b[43m \u001b[49m\u001b[43mstorage_options\u001b[49m\u001b[38;5;241;43m=\u001b[39;49m\u001b[43mstorage_options\u001b[49m\n\u001b[0;32m    936\u001b[0m \u001b[43m    \u001b[49m\u001b[43m)\u001b[49m\n\u001b[0;32m    937\u001b[0m     need_save \u001b[38;5;241m=\u001b[39m \u001b[38;5;28;01mTrue\u001b[39;00m\n\u001b[0;32m    939\u001b[0m \u001b[38;5;28;01mtry\u001b[39;00m:\n",
      "File \u001b[1;32m~\\.conda\\envs\\coppa\\lib\\site-packages\\pandas\\io\\excel\\_openpyxl.py:56\u001b[0m, in \u001b[0;36mOpenpyxlWriter.__init__\u001b[1;34m(self, path, engine, date_format, datetime_format, mode, storage_options, if_sheet_exists, engine_kwargs, **kwargs)\u001b[0m\n\u001b[0;32m     43\u001b[0m \u001b[38;5;28;01mdef\u001b[39;00m \u001b[38;5;21m__init__\u001b[39m(\n\u001b[0;32m     44\u001b[0m     \u001b[38;5;28mself\u001b[39m,\n\u001b[0;32m     45\u001b[0m     path: FilePath \u001b[38;5;241m|\u001b[39m WriteExcelBuffer \u001b[38;5;241m|\u001b[39m ExcelWriter,\n\u001b[1;32m   (...)\u001b[0m\n\u001b[0;32m     54\u001b[0m ) \u001b[38;5;241m-\u001b[39m\u001b[38;5;241m>\u001b[39m \u001b[38;5;28;01mNone\u001b[39;00m:\n\u001b[0;32m     55\u001b[0m     \u001b[38;5;66;03m# Use the openpyxl module as the Excel writer.\u001b[39;00m\n\u001b[1;32m---> 56\u001b[0m     \u001b[38;5;28;01mfrom\u001b[39;00m \u001b[38;5;21;01mopenpyxl\u001b[39;00m\u001b[38;5;21;01m.\u001b[39;00m\u001b[38;5;21;01mworkbook\u001b[39;00m \u001b[38;5;28;01mimport\u001b[39;00m Workbook\n\u001b[0;32m     58\u001b[0m     engine_kwargs \u001b[38;5;241m=\u001b[39m combine_kwargs(engine_kwargs, kwargs)\n\u001b[0;32m     60\u001b[0m     \u001b[38;5;28msuper\u001b[39m()\u001b[38;5;241m.\u001b[39m\u001b[38;5;21m__init__\u001b[39m(\n\u001b[0;32m     61\u001b[0m         path,\n\u001b[0;32m     62\u001b[0m         mode\u001b[38;5;241m=\u001b[39mmode,\n\u001b[1;32m   (...)\u001b[0m\n\u001b[0;32m     65\u001b[0m         engine_kwargs\u001b[38;5;241m=\u001b[39mengine_kwargs,\n\u001b[0;32m     66\u001b[0m     )\n",
      "\u001b[1;31mModuleNotFoundError\u001b[0m: No module named 'openpyxl'"
     ]
    }
   ],
   "source": [
    "df.to_excel(\"../../results/t1.xlsx\")"
   ]
  },
  {
   "cell_type": "code",
   "execution_count": 9,
   "id": "39983898-2dbf-48c5-848e-7504258951c6",
   "metadata": {
    "tags": []
   },
   "outputs": [],
   "source": [
    "def random_generation(num_node, loop=False):\n",
    "    pb = random.random()\n",
    "    ps = random.random()\n",
    "    px = (1 - ps) * random.random()\n",
    "    if loop:\n",
    "        pa = (1 - ps - px) * random.random()\n",
    "        pl = 1 - ps - px - pa\n",
    "        pel = random.random()\n",
    "    else:\n",
    "        pa = 1 - ps - px\n",
    "        pl = 0\n",
    "        pel = 0\n",
    "    gen1 = BPMNGen.BPMNGenerator(num_node=num_node, branch_ratio=pb, seq_ratio=ps, xor_ratio=px, and_ratio=pa, loop_ratio=pl, empty_loop_ratio=pel, fix_name=True)\n",
    "    return gen1.generate()"
   ]
  },
  {
   "cell_type": "code",
   "execution_count": 17,
   "id": "225d6324-5d71-41fe-a937-4782e03b1410",
   "metadata": {
    "tags": []
   },
   "outputs": [
    {
     "name": "stdout",
     "output_type": "stream",
     "text": [
      "1\n",
      "3\n",
      "5\n",
      "7\n",
      "9\n"
     ]
    }
   ],
   "source": [
    "bpmn_model_list = []\n",
    "for i in range(1, 11, 2):\n",
    "    print(i)\n",
    "    model_num = 0\n",
    "    while True:\n",
    "        bpmn, seed = random_generation(10)\n",
    "        if ProcessComplexity.calculate_CFC(seed) == i:\n",
    "            bpmn_model_list.append(bpmn)\n",
    "            model_num = model_num + 1\n",
    "            if model_num > 4:\n",
    "                break"
   ]
  },
  {
   "cell_type": "code",
   "execution_count": 19,
   "id": "22ce9cbe-ea2a-4e6c-8140-f292fddc403e",
   "metadata": {
    "tags": []
   },
   "outputs": [],
   "source": [
    "i = 0\n",
    "for bpmn in bpmn_model_list:\n",
    "    XMLWriter.apply(bpmn, \"../../models/BPMN/CS1/BPMN_cfc\" + str((i)//5*2+1) + \"_\" + str((i)%5) + \".xml\")\n",
    "    i = i+1\n",
    "                "
   ]
  },
  {
   "cell_type": "code",
   "execution_count": 26,
   "id": "3d7e3ae7-ab08-410e-a8de-1ba5ec00d6d8",
   "metadata": {
    "tags": []
   },
   "outputs": [],
   "source": [
    "i = 0\n",
    "for bpmn in bpmn_model_list:\n",
    "    gviz = GenerateBPMN.visualization(bpmn) \n",
    "    png_path = \"../../models/BPMN/CS1/BPMN_cfc\" + str((i)//5*2+1) + \"_\" + str((i)%5)\n",
    "    gviz.render(filename=png_path, format=\"jpeg\", cleanup=True)\n",
    "    i = i+1"
   ]
  }
 ],
 "metadata": {
  "kernelspec": {
   "display_name": "Python 3 (ipykernel)",
   "language": "python",
   "name": "python3"
  },
  "language_info": {
   "codemirror_mode": {
    "name": "ipython",
    "version": 3
   },
   "file_extension": ".py",
   "mimetype": "text/x-python",
   "name": "python",
   "nbconvert_exporter": "python",
   "pygments_lexer": "ipython3",
   "version": "3.8.19"
  }
 },
 "nbformat": 4,
 "nbformat_minor": 5
}
