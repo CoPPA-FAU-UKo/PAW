{
 "cells": [
  {
   "cell_type": "markdown",
   "id": "1b89df72-aecd-47c2-b0fc-9001ebcf0141",
   "metadata": {},
   "source": [
    "# Pipeline for remaining time prediction"
   ]
  },
  {
   "cell_type": "code",
   "execution_count": 1,
   "id": "05c379d7-ab30-45ff-ae90-819dfee33b13",
   "metadata": {},
   "source": [
    "import xgboost as xgb\n",
    "import os\n",
    "import sys\n",
    "import pickle\n",
    "import pandas as pd\n",
    "import numpy as np\n",
    "from joblib import dump, load\n",
    "import copy\n",
    "\n",
    "import torch\n",
    "import torch.nn as nn\n",
    "from torch.utils.data import Dataset\n",
    "from torch.nn.utils.rnn import pad_sequence\n",
    "from torch.utils.data import DataLoader\n",
    "from torch.nn import functional as F\n",
    "\n",
    "from sklearn.metrics import mean_absolute_error\n",
    "import importlib.util\n",
    "\n",
    "module_path = os.path.abspath(os.path.join('../..'))\n",
    "if module_path not in sys.path:\n",
    "    sys.path.append(module_path)\n",
    "    \n",
    "from src.Trainer import CaseDataSet\n",
    "from src.Trainer import RemTimePredictor\n",
    "from src.Model import DLModels\n",
    "\n",
    "from sklearn import preprocessing\n",
    "from sklearn.metrics import f1_score\n",
    "    \n",
    "\n",
    "\n",
    "torch_device = \"cpu\"\n",
    "device_package = torch.cpu\n",
    "if importlib.util.find_spec(\"torch.backends.mps\") is not None:\n",
    "    if torch.backends.mps.is_available():\n",
    "        torch_device = torch.device(\"mps\")\n",
    "        device_package = torch.mps\n",
    "if torch.cuda.is_available():\n",
    "    torch_device = torch.device(\"cuda\")\n",
    "    device_package = torch.cuda\n",
    "    \n",
    "torch_device"
   ],
   "outputs": []
  },
  {
   "cell_type": "markdown",
   "id": "6178c6b4-8234-40ff-a1ce-cba0fb354545",
   "metadata": {},
   "source": [
    "## XGB Predictor"
   ]
  },
  {
   "cell_type": "code",
   "execution_count": 2,
   "id": "b809da19-fde7-4c63-a5fc-3fa13393c221",
   "metadata": {},
   "source": [
    "encoding = \"Agg_Mean\"\n",
    "train = CaseDataSet.CaseDataset(project_data_path=\"../../data/\", input_data=\"dummy\", data_version=\"_train\",\n",
    "                                    feature_list=[\"Activity\", \"LapseTime\"],\n",
    "                                    encoding=encoding, label=\"RemTime\")\n",
    "\n",
    "val = CaseDataSet.CaseDataset(project_data_path=\"../../data/\", input_data=\"dummy\", data_version=\"_val\",\n",
    "                                    feature_list=[\"Activity\", \"LapseTime\"],\n",
    "                                    encoding=encoding, label=\"RemTime\")\n",
    "\n",
    "test = CaseDataSet.CaseDataset(project_data_path=\"../../data/\", input_data=\"dummy\", data_version=\"_test\",\n",
    "                                    feature_list=[\"Activity\", \"LapseTime\"],\n",
    "                                    encoding=encoding, label=\"RemTime\")"
   ],
   "outputs": []
  },
  {
   "cell_type": "code",
   "execution_count": 6,
   "id": "713961b7-7c06-4a19-b31c-3c41d39fa2f5",
   "metadata": {},
   "source": [
    "t1 = RemTimePredictor.XGBTrainer(train, val, model_path=\"../../models/test_remtime\")\n",
    "t1.train()\n",
    "print(t1.score())\n",
    "t1.save_model()"
   ],
   "outputs": []
  },
  {
   "cell_type": "code",
   "execution_count": 7,
   "id": "187e4c77-6ca8-416d-a175-410877d5f82c",
   "metadata": {},
   "source": [
    "t2 = RemTimePredictor.XGBTrainer(train, test, model_path=\"../../models/test_remtime\")\n",
    "t2.load_model()\n",
    "print(t2.score())"
   ],
   "outputs": []
  },
  {
   "cell_type": "markdown",
   "id": "3280a107-693d-4e65-9596-7ffc947772d6",
   "metadata": {},
   "source": [
    "## LSTM"
   ]
  },
  {
   "cell_type": "code",
   "execution_count": 5,
   "id": "2b186c4f-912b-4946-bb6b-fb70418a3f63",
   "metadata": {},
   "source": [
    "encoding = \"All\"\n",
    "train = CaseDataSet.CaseDataset(project_data_path=\"../../data/\", input_data=\"dummy\", data_version=\"_train\",\n",
    "                                    feature_list=[\"Activity\", \"LapseTime\"],\n",
    "                                    encoding=encoding, label=\"RemTime\")\n",
    "\n",
    "val = CaseDataSet.CaseDataset(project_data_path=\"../../data/\", input_data=\"dummy\", data_version=\"_val\",\n",
    "                                    feature_list=[\"Activity\", \"LapseTime\"],\n",
    "                                    encoding=encoding, label=\"RemTime\")\n",
    "\n",
    "test = CaseDataSet.CaseDataset(project_data_path=\"../../data/\", input_data=\"dummy\", data_version=\"_test\",\n",
    "                                    feature_list=[\"Activity\", \"LapseTime\"],\n",
    "                                    encoding=encoding, label=\"RemTime\")"
   ],
   "outputs": []
  },
  {
   "cell_type": "code",
   "execution_count": 7,
   "id": "58e5acc8-1d95-4c54-bea9-ec73d3000823",
   "metadata": {},
   "source": [
    "# Hyperparameters\n",
    "input_size = 8  # The number of expected features in the input x\n",
    "hidden_size = 256  # The number of features in the hidden state h\n",
    "num_layers = 1  # Number of recurrent layers\n",
    "num_classes = 1 \n",
    "learning_rate = 0.001\n",
    "\n",
    "\n",
    "model = DLModels.SimpleLSTM(input_size, hidden_size, num_layers, num_classes).to(torch_device)\n",
    "optimizer = torch.optim.Adam(model.parameters(), lr=learning_rate)\n",
    "loss = nn.L1Loss()"
   ],
   "outputs": []
  },
  {
   "cell_type": "code",
   "execution_count": 8,
   "id": "d2fbb5be-535d-4a0a-a25a-f9ae5152389e",
   "metadata": {},
   "source": [
    "trained_model, train_score, test_score = RemTimePredictor.train_model(model, optimizer, loss, loss, train, val,\n",
    "            100, torch_device, device_package, print_iter=True)"
   ],
   "outputs": []
  },
  {
   "cell_type": "code",
   "execution_count": 9,
   "id": "829945f4-b376-453c-b85a-28e65b606dce",
   "metadata": {},
   "source": [
    "RemTimePredictor.evaluate_model(trained_model, test, torch_device, device_package, batch_size=100)"
   ],
   "outputs": []
  }
 ],
 "metadata": {
  "kernelspec": {
   "display_name": "Python 3 (ipykernel)",
   "language": "python",
   "name": "python3"
  },
  "language_info": {
   "codemirror_mode": {
    "name": "ipython",
    "version": 3
   },
   "file_extension": ".py",
   "mimetype": "text/x-python",
   "name": "python",
   "nbconvert_exporter": "python",
   "pygments_lexer": "ipython3",
   "version": "3.8.19"
  }
 },
 "nbformat": 4,
 "nbformat_minor": 5
}
