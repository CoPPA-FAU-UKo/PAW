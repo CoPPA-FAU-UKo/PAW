{
 "cells": [
  {
   "cell_type": "markdown",
   "id": "d9a2878c-1b4c-473b-be4b-b677fc3fa5bb",
   "metadata": {},
   "source": [
    "# GUI Prototype"
   ]
  },
  {
   "cell_type": "code",
   "execution_count": 1,
   "id": "c3a28b97-d15c-4a68-83a8-531e4897a584",
   "metadata": {},
   "outputs": [],
   "source": [
    "import tkinter as tk"
   ]
  },
  {
   "cell_type": "code",
   "execution_count": 2,
   "id": "da7c16b8-52bc-4dbc-9b87-2b831857714c",
   "metadata": {},
   "outputs": [],
   "source": [
    "window = tk.Tk()"
   ]
  }
 ],
 "metadata": {
  "kernelspec": {
   "display_name": "Python 3 (ipykernel)",
   "language": "python",
   "name": "python3"
  },
  "language_info": {
   "codemirror_mode": {
    "name": "ipython",
    "version": 3
   },
   "file_extension": ".py",
   "mimetype": "text/x-python",
   "name": "python",
   "nbconvert_exporter": "python",
   "pygments_lexer": "ipython3",
   "version": "3.8.19"
  }
 },
 "nbformat": 4,
 "nbformat_minor": 5
}
