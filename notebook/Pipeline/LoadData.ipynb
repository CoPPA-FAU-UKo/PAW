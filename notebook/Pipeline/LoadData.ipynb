{
 "cells": [
  {
   "cell_type": "markdown",
   "id": "3288f653-21dc-47f5-addb-7d4fa97520b0",
   "metadata": {},
   "source": [
    "# Load Event Log Data"
   ]
  },
  {
   "cell_type": "code",
   "execution_count": 1,
   "id": "7a8fc3d4-6322-4f91-9c3a-aae3e0f5d710",
   "metadata": {
    "tags": []
   },
   "outputs": [],
   "source": [
    "import numpy as np\n",
    "import pandas as pd\n",
    "import os\n",
    "import sys\n",
    "module_path = os.path.abspath(os.path.join('../..'))\n",
    "if module_path not in sys.path:\n",
    "    sys.path.append(module_path)\n",
    "    \n",
    "import pickle as pickle\n",
    "from src.Log import Reformat\n",
    "from src.Utils import DataUtil\n",
    "from src.Preprocessing import Extraction\n",
    "from src.Preprocessing import Preprocess\n",
    "\n",
    "from sklearn import preprocessing"
   ]
  },
  {
   "cell_type": "code",
   "execution_count": 2,
   "id": "707acf22-9b51-447d-86ba-8d231c1ea54a",
   "metadata": {
    "tags": []
   },
   "outputs": [],
   "source": [
    "logs = DataUtil.read_files(\"../../data/SimulatedLogs\", \".json\")"
   ]
  },
  {
   "cell_type": "code",
   "execution_count": 3,
   "id": "907f800f-50dd-4e18-91ad-6fb67643344d",
   "metadata": {
    "tags": []
   },
   "outputs": [],
   "source": [
    "t1 = logs[list(logs.keys())[0]]\n",
    "data_trace = Reformat.roll_sequence(Extraction.extract(t1), time_column=\"endDate\", case_column=\"Case ID\")\n",
    "data_trace = data_trace.reset_index()"
   ]
  },
  {
   "cell_type": "code",
   "execution_count": 4,
   "id": "9158a0ce-d2d1-4f9b-91ae-8bfd843c086a",
   "metadata": {},
   "outputs": [],
   "source": [
    "data_trace[\"RemTime\"] = data_trace[\"endDate\"].apply(Preprocess.cal_remtime)\n",
    "data_trace[\"LapseTime\"] = data_trace[\"endDate\"].apply(Preprocess.cal_lapse)"
   ]
  },
  {
   "cell_type": "code",
   "execution_count": 5,
   "id": "d8ef4053-43b7-4b64-8101-b7b2b942b856",
   "metadata": {},
   "outputs": [],
   "source": [
    "train, val, test, le = Preprocess.split_encode(data_trace, [\"Activity\"])"
   ]
  },
  {
   "cell_type": "code",
   "execution_count": 6,
   "id": "b0a09bca-b85d-437c-8611-fdf6ce88475d",
   "metadata": {},
   "outputs": [
    {
     "data": {
      "text/html": [
       "<div>\n",
       "<style scoped>\n",
       "    .dataframe tbody tr th:only-of-type {\n",
       "        vertical-align: middle;\n",
       "    }\n",
       "\n",
       "    .dataframe tbody tr th {\n",
       "        vertical-align: top;\n",
       "    }\n",
       "\n",
       "    .dataframe thead th {\n",
       "        text-align: right;\n",
       "    }\n",
       "</style>\n",
       "<table border=\"1\" class=\"dataframe\">\n",
       "  <thead>\n",
       "    <tr style=\"text-align: right;\">\n",
       "      <th></th>\n",
       "      <th>Case ID</th>\n",
       "      <th>Activity</th>\n",
       "      <th>endDate</th>\n",
       "      <th>Start Time</th>\n",
       "      <th>RemTime</th>\n",
       "      <th>LapseTime</th>\n",
       "    </tr>\n",
       "  </thead>\n",
       "  <tbody>\n",
       "    <tr>\n",
       "      <th>0</th>\n",
       "      <td>2251799814781332</td>\n",
       "      <td>[0, 1, 2, 3, 4, 5]</td>\n",
       "      <td>[2026-07-07 23:29:47.287000+00:00, 2026-07-07 ...</td>\n",
       "      <td>2026-07-07 23:29:47.287000+00:00</td>\n",
       "      <td>[6000, 4800, 3300, 1200, 600, 0]</td>\n",
       "      <td>[0, 1200, 2700, 4800, 5400, 6000]</td>\n",
       "    </tr>\n",
       "    <tr>\n",
       "      <th>1</th>\n",
       "      <td>2251799814781359</td>\n",
       "      <td>[6, 7, 8, 9]</td>\n",
       "      <td>[2026-07-07 23:29:47.287000+00:00, 2026-07-07 ...</td>\n",
       "      <td>2026-07-07 23:29:47.287000+00:00</td>\n",
       "      <td>[5100, 3900, 0, 0]</td>\n",
       "      <td>[0, 1200, 5100, 5100]</td>\n",
       "    </tr>\n",
       "    <tr>\n",
       "      <th>2</th>\n",
       "      <td>2251799814781350</td>\n",
       "      <td>[6, 7, 8, 9]</td>\n",
       "      <td>[2026-07-07 23:29:47.287000+00:00, 2026-07-07 ...</td>\n",
       "      <td>2026-07-07 23:29:47.287000+00:00</td>\n",
       "      <td>[2700, 1500, 0, 0]</td>\n",
       "      <td>[0, 1200, 2700, 2700]</td>\n",
       "    </tr>\n",
       "    <tr>\n",
       "      <th>3</th>\n",
       "      <td>2251799814781341</td>\n",
       "      <td>[0, 1, 2, 3, 4, 5]</td>\n",
       "      <td>[2026-07-07 23:29:47.287000+00:00, 2026-07-07 ...</td>\n",
       "      <td>2026-07-07 23:29:47.287000+00:00</td>\n",
       "      <td>[6000, 4800, 3300, 1200, 600, 0]</td>\n",
       "      <td>[0, 1200, 2700, 4800, 5400, 6000]</td>\n",
       "    </tr>\n",
       "    <tr>\n",
       "      <th>4</th>\n",
       "      <td>2251799814781323</td>\n",
       "      <td>[6, 7, 8, 9]</td>\n",
       "      <td>[2026-07-07 23:29:47.287000+00:00, 2026-07-07 ...</td>\n",
       "      <td>2026-07-07 23:29:47.287000+00:00</td>\n",
       "      <td>[2700, 1500, 0, 0]</td>\n",
       "      <td>[0, 1200, 2700, 2700]</td>\n",
       "    </tr>\n",
       "    <tr>\n",
       "      <th>...</th>\n",
       "      <td>...</td>\n",
       "      <td>...</td>\n",
       "      <td>...</td>\n",
       "      <td>...</td>\n",
       "      <td>...</td>\n",
       "      <td>...</td>\n",
       "    </tr>\n",
       "    <tr>\n",
       "      <th>282</th>\n",
       "      <td>2251799814790112</td>\n",
       "      <td>[6, 7, 8, 9]</td>\n",
       "      <td>[2026-07-09 17:57:47.287000+00:00, 2026-07-09 ...</td>\n",
       "      <td>2026-07-09 17:57:47.287000+00:00</td>\n",
       "      <td>[1560, 600, 0, 0]</td>\n",
       "      <td>[0, 960, 1560, 1560]</td>\n",
       "    </tr>\n",
       "    <tr>\n",
       "      <th>283</th>\n",
       "      <td>2251799814790121</td>\n",
       "      <td>[6, 7, 8, 9]</td>\n",
       "      <td>[2026-07-09 17:57:47.287000+00:00, 2026-07-09 ...</td>\n",
       "      <td>2026-07-09 17:57:47.287000+00:00</td>\n",
       "      <td>[1860, 600, 0, 0]</td>\n",
       "      <td>[0, 1260, 1860, 1860]</td>\n",
       "    </tr>\n",
       "    <tr>\n",
       "      <th>284</th>\n",
       "      <td>2251799814790130</td>\n",
       "      <td>[6, 7, 8, 9]</td>\n",
       "      <td>[2026-07-09 17:57:47.287000+00:00, 2026-07-09 ...</td>\n",
       "      <td>2026-07-09 17:57:47.287000+00:00</td>\n",
       "      <td>[1860, 600, 60, 0]</td>\n",
       "      <td>[0, 1260, 1800, 1860]</td>\n",
       "    </tr>\n",
       "    <tr>\n",
       "      <th>285</th>\n",
       "      <td>2251799814790157</td>\n",
       "      <td>[6, 7, 8, 9]</td>\n",
       "      <td>[2026-07-09 17:57:47.287000+00:00, 2026-07-09 ...</td>\n",
       "      <td>2026-07-09 17:57:47.287000+00:00</td>\n",
       "      <td>[1560, 600, 0, 0]</td>\n",
       "      <td>[0, 960, 1560, 1560]</td>\n",
       "    </tr>\n",
       "    <tr>\n",
       "      <th>286</th>\n",
       "      <td>2251799814790148</td>\n",
       "      <td>[6, 7, 8, 9]</td>\n",
       "      <td>[2026-07-09 17:57:47.287000+00:00, 2026-07-09 ...</td>\n",
       "      <td>2026-07-09 17:57:47.287000+00:00</td>\n",
       "      <td>[1500, 540, 0, 0]</td>\n",
       "      <td>[0, 960, 1500, 1500]</td>\n",
       "    </tr>\n",
       "  </tbody>\n",
       "</table>\n",
       "<p>287 rows × 6 columns</p>\n",
       "</div>"
      ],
      "text/plain": [
       "              Case ID            Activity  \\\n",
       "0    2251799814781332  [0, 1, 2, 3, 4, 5]   \n",
       "1    2251799814781359        [6, 7, 8, 9]   \n",
       "2    2251799814781350        [6, 7, 8, 9]   \n",
       "3    2251799814781341  [0, 1, 2, 3, 4, 5]   \n",
       "4    2251799814781323        [6, 7, 8, 9]   \n",
       "..                ...                 ...   \n",
       "282  2251799814790112        [6, 7, 8, 9]   \n",
       "283  2251799814790121        [6, 7, 8, 9]   \n",
       "284  2251799814790130        [6, 7, 8, 9]   \n",
       "285  2251799814790157        [6, 7, 8, 9]   \n",
       "286  2251799814790148        [6, 7, 8, 9]   \n",
       "\n",
       "                                               endDate  \\\n",
       "0    [2026-07-07 23:29:47.287000+00:00, 2026-07-07 ...   \n",
       "1    [2026-07-07 23:29:47.287000+00:00, 2026-07-07 ...   \n",
       "2    [2026-07-07 23:29:47.287000+00:00, 2026-07-07 ...   \n",
       "3    [2026-07-07 23:29:47.287000+00:00, 2026-07-07 ...   \n",
       "4    [2026-07-07 23:29:47.287000+00:00, 2026-07-07 ...   \n",
       "..                                                 ...   \n",
       "282  [2026-07-09 17:57:47.287000+00:00, 2026-07-09 ...   \n",
       "283  [2026-07-09 17:57:47.287000+00:00, 2026-07-09 ...   \n",
       "284  [2026-07-09 17:57:47.287000+00:00, 2026-07-09 ...   \n",
       "285  [2026-07-09 17:57:47.287000+00:00, 2026-07-09 ...   \n",
       "286  [2026-07-09 17:57:47.287000+00:00, 2026-07-09 ...   \n",
       "\n",
       "                          Start Time                           RemTime  \\\n",
       "0   2026-07-07 23:29:47.287000+00:00  [6000, 4800, 3300, 1200, 600, 0]   \n",
       "1   2026-07-07 23:29:47.287000+00:00                [5100, 3900, 0, 0]   \n",
       "2   2026-07-07 23:29:47.287000+00:00                [2700, 1500, 0, 0]   \n",
       "3   2026-07-07 23:29:47.287000+00:00  [6000, 4800, 3300, 1200, 600, 0]   \n",
       "4   2026-07-07 23:29:47.287000+00:00                [2700, 1500, 0, 0]   \n",
       "..                               ...                               ...   \n",
       "282 2026-07-09 17:57:47.287000+00:00                 [1560, 600, 0, 0]   \n",
       "283 2026-07-09 17:57:47.287000+00:00                 [1860, 600, 0, 0]   \n",
       "284 2026-07-09 17:57:47.287000+00:00                [1860, 600, 60, 0]   \n",
       "285 2026-07-09 17:57:47.287000+00:00                 [1560, 600, 0, 0]   \n",
       "286 2026-07-09 17:57:47.287000+00:00                 [1500, 540, 0, 0]   \n",
       "\n",
       "                             LapseTime  \n",
       "0    [0, 1200, 2700, 4800, 5400, 6000]  \n",
       "1                [0, 1200, 5100, 5100]  \n",
       "2                [0, 1200, 2700, 2700]  \n",
       "3    [0, 1200, 2700, 4800, 5400, 6000]  \n",
       "4                [0, 1200, 2700, 2700]  \n",
       "..                                 ...  \n",
       "282               [0, 960, 1560, 1560]  \n",
       "283              [0, 1260, 1860, 1860]  \n",
       "284              [0, 1260, 1800, 1860]  \n",
       "285               [0, 960, 1560, 1560]  \n",
       "286               [0, 960, 1500, 1500]  \n",
       "\n",
       "[287 rows x 6 columns]"
      ]
     },
     "execution_count": 6,
     "metadata": {},
     "output_type": "execute_result"
    }
   ],
   "source": [
    "train"
   ]
  },
  {
   "cell_type": "markdown",
   "id": "6a9642c4-5e43-460c-a229-92fcf58e661c",
   "metadata": {},
   "source": [
    "## Preprocessing"
   ]
  },
  {
   "cell_type": "code",
   "execution_count": 77,
   "id": "43be1905-6518-44a1-b588-8d356c3b9869",
   "metadata": {
    "tags": []
   },
   "outputs": [],
   "source": [
    "def label_encoding(column):\n",
    "    le = preprocessing.LabelEncoder()\n",
    "    le.fit(column)\n",
    "    le_name_mapping = dict(zip(le.classes_, le.transform(le.classes_)))\n",
    "    le_class_mapping = dict(zip(le.transform(le.classes_), le.classes_))\n",
    "    return le.transform(column), le_name_mapping, le_class_mapping\n",
    "\n",
    "def cal_remtime(time_stamp_arr):\n",
    "    return (time_stamp_arr[-1] - time_stamp_arr).astype('timedelta64[s]').astype(int)\n",
    "\n",
    "def cal_lapse(time_stamp_arr):\n",
    "    return -(time_stamp_arr[0] - time_stamp_arr).astype('timedelta64[s]').astype(int)\n",
    "\n",
    "def preprocess(log, key):\n",
    "    data = log[log[\"nodeState\"] == \"COMPLETED\"].drop(columns=[\"nodeState\"])\n",
    "    data = data[data[\"processState\"] == \"COMPLETED\"].drop(columns=[\"processState\"])\n",
    "    data = data[data[\"nodeType\"] == \"USER_TASK\"]\n",
    "    data[\"startDate\"] = data[\"startDate\"].apply(pd.to_datetime)\n",
    "    data[\"endDate\"] = data[\"endDate\"].apply(pd.to_datetime)\n",
    "    data = data.rename(columns={\"processInstanceKey\": \"Case ID\", \"flowNodeId\": \"Activity\"})\n",
    "    data_core = data[[\"Case ID\", \"Activity\", \"endDate\"]]\n",
    "    \n",
    "    le_map = {}\n",
    "    for column in data_core.columns:\n",
    "        if column != \"Case ID\" and type(data_core[column].iloc[0]) == str:\n",
    "            data_core[column], name_mapping, class_mapping = label_encoding(data_core[column])\n",
    "            le_map[column] = {\"name_mapping\": name_mapping, \"class_mapping\": class_mapping}\n",
    "            \n",
    "    le_map_pd = pd.DataFrame(data=le_map)\n",
    "    le_map_pd.to_pickle(\"../../data/Test/\" + key + \"_label_encode.pkl\")\n",
    "    \n",
    "    data_trace = Reformat.roll_sequence(data_core, time_column=\"endDate\", case_column=\"Case ID\")\n",
    "    data_trace = data_trace.reset_index()\n",
    "    \n",
    "    data_trace[\"RemTime\"] = data_trace[\"endDate\"].apply(cal_remtime)\n",
    "    data_trace[\"LapseTime\"] = data_trace[\"endDate\"].apply(cal_lapse)\n",
    "    \n",
    "    return data_trace"
   ]
  },
  {
   "cell_type": "code",
   "execution_count": 25,
   "id": "012357d0-627e-4d53-820b-d64737bffd90",
   "metadata": {
    "tags": []
   },
   "outputs": [],
   "source": [
    "t1_p = preprocess(t1, \"1\")"
   ]
  },
  {
   "cell_type": "markdown",
   "id": "3abc8b54-9a97-49e3-9e79-5b30f68fc703",
   "metadata": {},
   "source": [
    "## Split"
   ]
  },
  {
   "cell_type": "code",
   "execution_count": 26,
   "id": "2e1d9112-48c7-459f-83f1-d924f42844da",
   "metadata": {
    "tags": []
   },
   "outputs": [],
   "source": [
    "t1_p.shape[0]"
   ]
  },
  {
   "cell_type": "code",
   "execution_count": 27,
   "id": "7b839a05-bfd8-4190-80b8-c7a2a1e2aade",
   "metadata": {
    "tags": []
   },
   "outputs": [],
   "source": [
    "def split_data(log, train=0.64, val=0.16):\n",
    "    data_size = log.shape[0]\n",
    "    training_set = log[:int(train * data_size)]\n",
    "    validation_set = log[int(train * data_size): int(train * data_size) + int(val * data_size)]\n",
    "    test_set = log[int(train * data_size) + int(val * data_size): ]\n",
    "    return training_set, validation_set, test_set\n"
   ]
  },
  {
   "cell_type": "code",
   "execution_count": 37,
   "id": "80ea511d-bafc-46d6-9033-3de2d106366a",
   "metadata": {
    "tags": []
   },
   "outputs": [],
   "source": [
    "t1_train, t1_val, t1_test = split_data(t1_p)"
   ]
  },
  {
   "cell_type": "code",
   "execution_count": 38,
   "id": "f8e047f4-63b9-4915-a933-6b00c7c4d591",
   "metadata": {
    "tags": []
   },
   "outputs": [],
   "source": [
    "t1_train[\"RemTime\"].explode(\"RemtTime\").max()"
   ]
  },
  {
   "cell_type": "markdown",
   "id": "9f075351-b27e-448c-8e67-4fb8e2f218dd",
   "metadata": {},
   "source": [
    "## Normalize Time Feature"
   ]
  },
  {
   "cell_type": "code",
   "execution_count": 36,
   "id": "2196c89a-315f-43ca-a6c0-e8b2541fcbd7",
   "metadata": {
    "tags": []
   },
   "outputs": [],
   "source": [
    "def norm_remtime(train, val, test, columns=[\"RemTime\", \"LapseTime\"]):\n",
    "    for column in columns:\n",
    "        max_value = train[column].explode(column).max()\n",
    "        train[column] = train[column] / max_value\n",
    "        val[column] = val[column] / max_value\n",
    "        test[column] = test[column] / max_value\n",
    "    \n",
    "    return train, val, test"
   ]
  },
  {
   "cell_type": "code",
   "execution_count": 39,
   "id": "436d523c-1fea-4cd1-a556-c70074676b14",
   "metadata": {
    "tags": []
   },
   "outputs": [],
   "source": [
    "t1_train_n, t1_val_n, t1_test_n = norm_remtime(t1_train, t1_val, t1_test)"
   ]
  },
  {
   "cell_type": "markdown",
   "id": "409f8712-6f1f-4520-afa2-8c4c47e2d0e4",
   "metadata": {
    "tags": []
   },
   "source": [
    "## Pipeline"
   ]
  },
  {
   "cell_type": "code",
   "execution_count": 78,
   "id": "a1ef22c0-82fd-4681-8504-0145e2abe4c4",
   "metadata": {
    "tags": []
   },
   "outputs": [],
   "source": [
    "for data_set_name in logs.keys():\n",
    "    log_p = preprocess(logs[data_set_name], data_set_name)\n",
    "    train, val, test = split_data(log_p)\n",
    "    train, val, test = norm_remtime(train, val, test)\n",
    "    train.to_pickle(\"../../data/Test/\" + data_set_name + \"_train.pkl\")\n",
    "    val.to_pickle(\"../../data/Test/\" + data_set_name + \"_val.pkl\")\n",
    "    test.to_pickle(\"../../data/Test/\" + data_set_name + \"_test.pkl\")"
   ]
  },
  {
   "cell_type": "code",
   "execution_count": 85,
   "id": "e44c41e0-c709-48ae-8343-9f6679c6bbc3",
   "metadata": {
    "tags": []
   },
   "outputs": [],
   "source": [
    "test[\"Activity\"]"
   ]
  }
 ],
 "metadata": {
  "kernelspec": {
   "display_name": "Python 3 (ipykernel)",
   "language": "python",
   "name": "python3"
  },
  "language_info": {
   "codemirror_mode": {
    "name": "ipython",
    "version": 3
   },
   "file_extension": ".py",
   "mimetype": "text/x-python",
   "name": "python",
   "nbconvert_exporter": "python",
   "pygments_lexer": "ipython3",
   "version": "3.8.19"
  }
 },
 "nbformat": 4,
 "nbformat_minor": 5
}
