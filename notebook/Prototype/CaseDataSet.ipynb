{
 "cells": [
  {
   "cell_type": "markdown",
   "id": "70b93bfa-533a-454d-bb3c-6eb1a0e8fdbf",
   "metadata": {},
   "source": [
    "# Case Data Set"
   ]
  },
  {
   "cell_type": "code",
   "execution_count": 1,
   "id": "ab3927da-21e3-49ad-ba5e-bdfd5e416b56",
   "metadata": {},
   "outputs": [],
   "source": [
    "import pandas as pd\n",
    "import numpy as np\n",
    "\n",
    "import torch\n",
    "from torch.nn import functional as F\n",
    "from torch.utils.data import Dataset"
   ]
  },
  {
   "cell_type": "code",
   "execution_count": 12,
   "id": "e9734fd3-d670-4c27-a7a0-cc2a30c88514",
   "metadata": {},
   "outputs": [],
   "source": [
    "class CaseDataset(Dataset):\n",
    "    def __init__(self, data, input_data=\"helpdesk\", data_version=\"_train\", features=[],\n",
    "                 label=\"Next_Activity\", encoding=\"all\"):\n",
    "\n",
    "        self.data_all = data\n",
    "        self.feature_list = features\n",
    "        self.encoding = encoding\n",
    "        self.label = label\n",
    "        self.next_event_prediction = False\n",
    "        if label[:5] == \"Next_\" or label[:5] == \"next_\":\n",
    "            self.label = label[5:]\n",
    "            self.next_event_prediction = True\n",
    "\n",
    "        self.data_all[\"Case_Length\"] = self.data_all[label].apply(len)\n",
    "        self.prefix_length = 1\n",
    "        self.data_pool = self.data_all.copy()\n",
    "        self.max_case_len = self.data_pool[\"Case_Length\"].max()\n",
    "\n",
    "    def filter_caseID(self, ID=None):\n",
    "        if ID is None:\n",
    "            self.data_pool = self.data_all.copy()\n",
    "            self.max_case_len = self.data_pool[\"Case_Length\"].max()\n",
    "        else:\n",
    "            self.data_pool = self.data_all.copy()[self.data_all[\"CaseID\"] == ID]\n",
    "            if self.data_pool.shape[0] == 0:\n",
    "                self.max_case_len = 0\n",
    "            else:\n",
    "                self.max_case_len = self.data_pool[\"Case_Length\"].max()\n",
    "\n",
    "    def set_prefix_length(self, prefix_len):\n",
    "        self.prefix_length = prefix_len\n",
    "\n",
    "    def shuffle_data(self):\n",
    "        self.data_pool = self.data_pool.sample(frac=1)\n",
    "\n",
    "    def update_data_pool(self):\n",
    "        max_prefix = self.prefix_length\n",
    "        if self.next_event_prediction:\n",
    "            max_prefix = self.prefix_length + 1\n",
    "        data_temp = self.data_pool[self.data_pool[\"Case_Length\"] >= max_prefix]\n",
    "        return data_temp\n",
    "\n",
    "    def convert_feature_vec(self, data):\n",
    "        data_com = np.hstack(data.values)\n",
    "        if self.encoding == \"Last\":\n",
    "            return data_com[self.prefix_length-1]\n",
    "        if self.encoding == \"Agg_Mean\":\n",
    "            return np.mean(data_com[:self.prefix_length], axis=0)\n",
    "        return data_com[:self.prefix_length]\n",
    "\n",
    "    def convert_label_vec(self, label):\n",
    "        if self.next_event_prediction:\n",
    "            return label[self.prefix_length]\n",
    "        else:\n",
    "            return label[self.prefix_length-1]\n",
    "\n",
    "    def __len__(self):\n",
    "        data_temp = self.update_data_pool()\n",
    "        return data_temp.shape[0]\n",
    "\n",
    "    def __getitem__(self, idx):\n",
    "        data_temp = self.update_data_pool()\n",
    "        if torch.is_tensor(idx):\n",
    "            idx = idx.tolist()\n",
    "\n",
    "        x = data_temp[self.feature_list].apply(self.convert_feature_vec, axis=1).values[idx]\n",
    "        y = data_temp[self.label].apply(self.convert_label_vec).values[idx]\n",
    "\n",
    "        if len(x) == 0:\n",
    "            return None\n",
    "\n",
    "        y = torch.stack(y.tolist())\n",
    "        return torch.tensor(np.stack(x)), y"
   ]
  },
  {
   "cell_type": "code",
   "execution_count": 18,
   "id": "5bdd0fe7-9a0c-433a-bef3-2fed78e34d97",
   "metadata": {},
   "outputs": [],
   "source": [
    "ds1 = CaseDataset(project_data_path=\"../../data/\", input_data=\"test1\", data_version=\"\",\n",
    "            act_column=\"Activity\", feature_list=[\"Activity\", \"LapseTime\"], label=\"Next_Activity\", encoding=\"all\")"
   ]
  },
  {
   "cell_type": "code",
   "execution_count": 19,
   "id": "daaed416-a3c3-4c2f-a80a-34cabbf8e449",
   "metadata": {},
   "outputs": [],
   "source": [
    "ds1.data_all"
   ]
  },
  {
   "cell_type": "code",
   "execution_count": 20,
   "id": "4b5ba698-2df5-4347-9c4b-9da53890db82",
   "metadata": {},
   "outputs": [],
   "source": [
    "ds1.set_prefix_length(3)\n",
    "ds1[:]"
   ]
  }
 ],
 "metadata": {
  "kernelspec": {
   "display_name": "Python 3 (ipykernel)",
   "language": "python",
   "name": "python3"
  },
  "language_info": {
   "codemirror_mode": {
    "name": "ipython",
    "version": 3
   },
   "file_extension": ".py",
   "mimetype": "text/x-python",
   "name": "python",
   "nbconvert_exporter": "python",
   "pygments_lexer": "ipython3",
   "version": "3.8.19"
  }
 },
 "nbformat": 4,
 "nbformat_minor": 5
}
